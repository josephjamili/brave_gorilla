{
 "cells": [
  {
   "cell_type": "markdown",
   "metadata": {
    "collapsed": true
   },
   "source": [
    "# Exploring Hacker News Posts\n",
    "\n",
    "### Hacker new is a site started by the startup incubated [Y Cominbator](https://www.ycombinator.com/), where user-submitted stories, known as \"posts\" receive votes and comments. This is popular in technology and startup cirecles, and posts that make it to the top of the Hacker News listings can get hundreds of thousands of visitors as a result.\n",
    "\n",
    "The dataset can be found [here in this link](https://www.kaggle.com/datasets/hacker-news/hacker-news-posts), but it has been trimmed down to about 20,000 rows by removing all submissions that did not get any comments followed by randomly smapling from the remaining sumbmissions. "
   ]
  },
  {
   "cell_type": "markdown",
   "metadata": {},
   "source": [
    "---\n",
    "We start by reading the ```hacker_news.csv``` file in a list of lists."
   ]
  },
  {
   "cell_type": "code",
   "execution_count": 1,
   "metadata": {},
   "outputs": [
    {
     "name": "stdout",
     "output_type": "stream",
     "text": [
      "[['id', 'title', 'url', 'num_points', 'num_comments', 'author', 'created_at'], ['12224879', 'Interactive Dynamic Video', 'http://www.interactivedynamicvideo.com/', '386', '52', 'ne0phyte', '8/4/2016 11:52'], ['10975351', 'How to Use Open Source and Shut the Fuck Up at the Same Time', 'http://hueniverse.com/2016/01/26/how-to-use-open-source-and-shut-the-fuck-up-at-the-same-time/', '39', '10', 'josep2', '1/26/2016 19:30'], ['11964716', \"Florida DJs May Face Felony for April Fools' Water Joke\", 'http://www.thewire.com/entertainment/2013/04/florida-djs-april-fools-water-joke/63798/', '2', '1', 'vezycash', '6/23/2016 22:20'], ['11919867', 'Technology ventures: From Idea to Enterprise', 'https://www.amazon.com/Technology-Ventures-Enterprise-Thomas-Byers/dp/0073523429', '3', '1', 'hswarna', '6/17/2016 0:01']]\n"
     ]
    }
   ],
   "source": [
    "from csv import reader\n",
    "opened_file = open('hacker_news.csv')\n",
    "read_file = reader(opened_file)\n",
    "hn = list(read_file)\n",
    "\n",
    "print(hn[:5])\n"
   ]
  },
  {
   "cell_type": "markdown",
   "metadata": {},
   "source": [
    "The first list in the inner lists contatins headers. In order to analyze our dta, we need to remove this row."
   ]
  },
  {
   "cell_type": "code",
   "execution_count": 2,
   "metadata": {},
   "outputs": [
    {
     "name": "stdout",
     "output_type": "stream",
     "text": [
      "['id', 'title', 'url', 'num_points', 'num_comments', 'author', 'created_at']\n",
      "[['12224879', 'Interactive Dynamic Video', 'http://www.interactivedynamicvideo.com/', '386', '52', 'ne0phyte', '8/4/2016 11:52'], ['10975351', 'How to Use Open Source and Shut the Fuck Up at the Same Time', 'http://hueniverse.com/2016/01/26/how-to-use-open-source-and-shut-the-fuck-up-at-the-same-time/', '39', '10', 'josep2', '1/26/2016 19:30'], ['11964716', \"Florida DJs May Face Felony for April Fools' Water Joke\", 'http://www.thewire.com/entertainment/2013/04/florida-djs-april-fools-water-joke/63798/', '2', '1', 'vezycash', '6/23/2016 22:20'], ['11919867', 'Technology ventures: From Idea to Enterprise', 'https://www.amazon.com/Technology-Ventures-Enterprise-Thomas-Byers/dp/0073523429', '3', '1', 'hswarna', '6/17/2016 0:01'], ['10301696', 'Note by Note: The Making of Steinway L1037 (2007)', 'http://www.nytimes.com/2007/11/07/movies/07stein.html?_r=0', '8', '2', 'walterbell', '9/30/2015 4:12']]\n"
     ]
    }
   ],
   "source": [
    "headers = hn[0]\n",
    "hn = hn[1:]\n",
    "print(headers)\n",
    "print(hn[:5])"
   ]
  },
  {
   "cell_type": "markdown",
   "metadata": {},
   "source": [
    "If we wish to control for upper and lower case, we can create methods beginning with ```Ask HN```and ```Show HN``` (and case variations) into two different lists."
   ]
  },
  {
   "cell_type": "code",
   "execution_count": 3,
   "metadata": {},
   "outputs": [
    {
     "name": "stdout",
     "output_type": "stream",
     "text": [
      "1744\n",
      "1162\n",
      "17194\n"
     ]
    }
   ],
   "source": [
    "ask_posts = []\n",
    "show_posts = []\n",
    "other_posts = []\n",
    "\n",
    "for row in hn:\n",
    "    title = row[1]\n",
    "    if title.lower().startswith(\"ask hn\"):\n",
    "        ask_posts.append(row)\n",
    "    elif title.lower().startswith(\"show hn\"):\n",
    "        show_posts.append(row)\n",
    "    else:\n",
    "        other_posts.append(row)\n",
    "\n",
    "print(len(ask_posts))\n",
    "print(len(show_posts))\n",
    "print(len(other_posts))"
   ]
  },
  {
   "cell_type": "markdown",
   "metadata": {},
   "source": [
    "---\n",
    "Next, lets see if ask posts or show posts receive more comments on average."
   ]
  },
  {
   "cell_type": "code",
   "execution_count": 4,
   "metadata": {},
   "outputs": [
    {
     "name": "stdout",
     "output_type": "stream",
     "text": [
      "14.038417431192661\n",
      "10.31669535283993\n"
     ]
    }
   ],
   "source": [
    "total_ask_comments = 0\n",
    "\n",
    "for row in ask_posts:\n",
    "    total_ask_comments += int(row[4])\n",
    "\n",
    "avg_ask_comments = total_ask_comments / len(ask_posts)\n",
    "print(avg_ask_comments)\n",
    "\n",
    "total_show_comments = 0\n",
    "\n",
    "for row in show_posts:\n",
    "    total_show_comments += int(row[4])\n",
    "\n",
    "avg_show_comments = total_show_comments / len(show_posts)\n",
    "print(avg_show_comments)"
   ]
  },
  {
   "cell_type": "markdown",
   "metadata": {},
   "source": [
    "---\n",
    "We determined that ask posts receive more comments than show posts. Since most of the focus is on ask posts, we will focus our remaining analysis here.\n",
    "\n",
    "Now, we will see if ask posts created at a certain *time* are more likely to attract comments. We'll use the following steps to perform this analysis:\n",
    "1. Calculate the number of ask posts created in each hour of the day, along with the number of comments received.\n",
    "2. Calculate the average number of comments ask posts receive by hour created."
   ]
  },
  {
   "cell_type": "code",
   "execution_count": 5,
   "metadata": {},
   "outputs": [],
   "source": [
    "import datetime as dt\n",
    "\n",
    "result_list = []\n",
    "\n",
    "for row in ask_posts:\n",
    "    result_list.append([row[6], int(row[4])])\n",
    "\n",
    "counts_by_hour = {}\n",
    "comments_by_hour = {}\n",
    "date_format = \"%m/%d/%Y %H:%M\"\n",
    "\n",
    "for each_row in result_list:\n",
    "    date = each_row[0]\n",
    "    comment = each_row[1]\n",
    "    time = dt.datetime.strptime(date, date_format).strftime(\"%H\")\n",
    "    if time in counts_by_hour:\n",
    "        comments_by_hour[time] += comment\n",
    "        counts_by_hour[time] += 1\n",
    "    else:\n",
    "        comments_by_hour[time] = 1\n",
    "        counts_by_hour[time] = 1"
   ]
  },
  {
   "cell_type": "markdown",
   "metadata": {},
   "source": [
    "1. Import the ```datetime``` module as ```dt```.\n",
    "2. Create an empty list, and assign it to ```result_list```. This will be a list of lists.\n",
    "3. Iterate over ```ask_posts```, and append to ```result_list``` a list with two elements:\n",
    "    - The first element should be the column ```created_at```.\n",
    "        - Because the ```created_at``` column is the seventh column in ```ask_posts```, you'll need to get the element at index ```6``` in each row.\n",
    "    - The second element should be the number of comments of the post.\n",
    "        - You'll also need to convert the value to an integer.\n",
    "4. Create two empty dictionaries called ```counts_by_hour``` and ```comments_by_hour```.\n",
    "5. Loop through each row of ```result_list```.\n",
    "6. Extract the hour from the date, which is the first element of the row.\n",
    "7. Use the ```datetime.strptime()``` method to parse the date and create a datetime object.\n",
    "8. Use the string we want to parse as the first argument and a string that specifies the format as the second argument.\n",
    "    - Use the ```datetime.strftime()``` method to select just the hour from the datetime object.\n",
    "    - **If the hour** isn't a key in ```counts_by_hour```:\n",
    "        - Create the key in ```counts_by_hour```, and set it equal to ```1```.\n",
    "        - Create the key in ```comments_by_hour```, and set it equal to the ```comment``` number.\n",
    "    - **If the hour** is already a key in counts_by_hour:\n",
    "        - Increment the value in ```counts_by_hour``` by ```1```.\n",
    "        - Increment the value in ```comments_by_hour``` by the ```comment``` number."
   ]
  },
  {
   "cell_type": "markdown",
   "metadata": {},
   "source": [
    "---\n",
    "Next, we create a list of lists containing the hours during which posts were created and the average number of comments those posts received. \n",
    "\n",
    "1. Use the example above to calculate the average number of comments per post for posts created during each hour of the day.\n",
    "2. The result should be a list of lists in which the first element is the hour and the second element is the average number of comments per post. Assign the result to a variable named ```avg_by_hour```. Display the results."
   ]
  },
  {
   "cell_type": "code",
   "execution_count": 6,
   "metadata": {},
   "outputs": [
    {
     "data": {
      "text/plain": [
       "[['09', 5.466666666666667],\n",
       " ['13', 14.411764705882353],\n",
       " ['10', 13.440677966101696],\n",
       " ['14', 13.214953271028037],\n",
       " ['16', 16.64814814814815],\n",
       " ['23', 7.985294117647059],\n",
       " ['12', 9.36986301369863],\n",
       " ['17', 11.46],\n",
       " ['15', 38.5948275862069],\n",
       " ['21', 15.98165137614679],\n",
       " ['20', 21.5125],\n",
       " ['02', 23.775862068965516],\n",
       " ['18', 13.192660550458715],\n",
       " ['03', 7.796296296296297],\n",
       " ['05', 9.478260869565217],\n",
       " ['19', 10.781818181818181],\n",
       " ['01', 10.85],\n",
       " ['22', 6.732394366197183],\n",
       " ['08', 10.166666666666666],\n",
       " ['04', 7.127659574468085],\n",
       " ['00', 7.963636363636364],\n",
       " ['06', 9.022727272727273],\n",
       " ['07', 7.823529411764706],\n",
       " ['11', 11.03448275862069]]"
      ]
     },
     "execution_count": 6,
     "metadata": {},
     "output_type": "execute_result"
    }
   ],
   "source": [
    "avg_per_hour = []\n",
    "\n",
    "for hr in comments_by_hour:\n",
    "    avg_per_hour.append([hr, comments_by_hour[hr] / counts_by_hour[hr]])\n",
    "\n",
    "avg_per_hour"
   ]
  },
  {
   "cell_type": "markdown",
   "metadata": {},
   "source": [
    "---\n",
    "Even though we have the results that we need, the format makes it hard to identify the hours with the highest values. We can finish by sorting the list of lists and printing the five hightes values in a format that is easier to read.\n",
    "\n",
    "1. Create a list that equals ```avg_by_hour``` with swapped columns.\n",
    "    - Create an empty list and assign it to ```swap_avg_by_hour```.\n",
    "    - Iterate over the rows of ```avg_by_hour```, and append to ```swap_avg_by_hour``` a list whose first element is the second element of the row, and whose second element is the first element of the row.\n",
    "2. Print ```swap_avg_by_hour```.\n",
    "3. Use the ```sorted()``` function to sort ```swap_avg_by_hour``` in descending order. Since the first column of this list is the average number of comments, sorting the list will sort by the average number of comments.\n",
    "    - Set the ```reverse``` argument to ```True```, so that the highest value in the first column appears first in the list.\n",
    "    - Assign the result to ```sorted_swap```.\n",
    "4. Print the string \"Top 5 Hours for Ask Posts Comments\".\n",
    "5. Loop through each average and each hour (in this order) in the first five lists of ```sorted_swap```.\n",
    "6. Use the ```str.format()``` method to print the hour and average in the following format: ```15:00: 38.59 average comments per post```.\n",
    "    - To format the hours, use the ```datetime.strptime()``` constructor to return a datetime object, and then use the ```strftime()``` method to specify the format of the time.\n",
    "    - To format the average, you can use ```{:.2f}``` to indicate only two decimal places."
   ]
  },
  {
   "cell_type": "code",
   "execution_count": 12,
   "metadata": {},
   "outputs": [
    {
     "name": "stdout",
     "output_type": "stream",
     "text": [
      "[[5.466666666666667, '09'], [14.411764705882353, '13'], [13.440677966101696, '10'], [13.214953271028037, '14'], [16.64814814814815, '16'], [7.985294117647059, '23'], [9.36986301369863, '12'], [11.46, '17'], [38.5948275862069, '15'], [15.98165137614679, '21'], [21.5125, '20'], [23.775862068965516, '02'], [13.192660550458715, '18'], [7.796296296296297, '03'], [9.478260869565217, '05'], [10.781818181818181, '19'], [10.85, '01'], [6.732394366197183, '22'], [10.166666666666666, '08'], [7.127659574468085, '04'], [7.963636363636364, '00'], [9.022727272727273, '06'], [7.823529411764706, '07'], [11.03448275862069, '11']]\n"
     ]
    },
    {
     "data": {
      "text/plain": [
       "[[38.5948275862069, '15'],\n",
       " [23.775862068965516, '02'],\n",
       " [21.5125, '20'],\n",
       " [16.64814814814815, '16'],\n",
       " [15.98165137614679, '21'],\n",
       " [14.411764705882353, '13'],\n",
       " [13.440677966101696, '10'],\n",
       " [13.214953271028037, '14'],\n",
       " [13.192660550458715, '18'],\n",
       " [11.46, '17'],\n",
       " [11.03448275862069, '11'],\n",
       " [10.85, '01'],\n",
       " [10.781818181818181, '19'],\n",
       " [10.166666666666666, '08'],\n",
       " [9.478260869565217, '05'],\n",
       " [9.36986301369863, '12'],\n",
       " [9.022727272727273, '06'],\n",
       " [7.985294117647059, '23'],\n",
       " [7.963636363636364, '00'],\n",
       " [7.823529411764706, '07'],\n",
       " [7.796296296296297, '03'],\n",
       " [7.127659574468085, '04'],\n",
       " [6.732394366197183, '22'],\n",
       " [5.466666666666667, '09']]"
      ]
     },
     "execution_count": 12,
     "metadata": {},
     "output_type": "execute_result"
    }
   ],
   "source": [
    "swap_avg_by_hour = []\n",
    "for row in avg_per_hour:\n",
    "    swap_avg_by_hour.append([row[1], row[0]])\n",
    "print(swap_avg_by_hour)\n",
    "\n",
    "sorted_swap = sorted(swap_avg_by_hour, reverse=True)\n",
    "\n",
    "sorted_swap"
   ]
  },
  {
   "cell_type": "code",
   "execution_count": 13,
   "metadata": {},
   "outputs": [
    {
     "name": "stdout",
     "output_type": "stream",
     "text": [
      "Top 5 Hours for Ask Posts Comments\n",
      "15:00: 38.59 average comments per post\n",
      "02:00: 23.78 average comments per post\n",
      "20:00: 21.51 average comments per post\n",
      "16:00: 16.65 average comments per post\n",
      "21:00: 15.98 average comments per post\n"
     ]
    }
   ],
   "source": [
    "# Sort the values and print the top 5 hours with the highest average comments.\n",
    "\n",
    "print(\"Top 5 Hours for Ask Posts Comments\")\n",
    "for avg, hr in sorted_swap[:5]:\n",
    "    print(\"{}: {:.2f} average comments per post\".format(\n",
    "        dt.datetime.strptime(hr, \"%H\").strftime(\"%H:%M\"), avg))"
   ]
  },
  {
   "cell_type": "markdown",
   "metadata": {},
   "source": [
    "---\n",
    "Based of the analysts, it would appear that posting at 3:00pm EST would create the highest change of reciving comments under Ask Posts in Hacker News."
   ]
  }
 ],
 "metadata": {
  "kernelspec": {
   "display_name": "Python 3",
   "language": "python",
   "name": "python3"
  },
  "language_info": {
   "codemirror_mode": {
    "name": "ipython",
    "version": 3
   },
   "file_extension": ".py",
   "mimetype": "text/x-python",
   "name": "python",
   "nbconvert_exporter": "python",
   "pygments_lexer": "ipython3",
   "version": "3.8.2"
  }
 },
 "nbformat": 4,
 "nbformat_minor": 2
}
